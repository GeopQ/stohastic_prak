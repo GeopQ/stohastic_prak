{
 "cells": [
  {
   "cell_type": "code",
   "execution_count": null,
   "id": "f6858eff",
   "metadata": {},
   "outputs": [],
   "source": [
    "#1v;2v;3v;4v;5v;6v"
   ]
  },
  {
   "cell_type": "code",
   "execution_count": null,
   "id": "ed13ff95",
   "metadata": {},
   "outputs": [],
   "source": [
    "#Блок import-ов\n",
    "from random import *\n",
    "import numpy as np\n",
    "from scipy.stats import uniform\n",
    "import os\n",
    "from math import sqrt\n",
    "import matplotlib.pyplot as plt\n",
    "from scipy.special import factorial \n",
    "from scipy.stats import chisquare\n",
    "from scipy.stats import ttest_ind\n",
    "from scipy.stats import f\n",
    "from scipy.stats import probplot\n",
    "from scipy.stats import norm\n",
    "from scipy.stats import invgauss\n",
    "from time import time\n",
    "from scipy.stats.distributions import chi2\n",
    "from scipy import stats\n",
    "from statsmodels.distributions.empirical_distribution import ECDF\n",
    "from scipy.stats import cauchy\n"
   ]
  },
  {
   "cell_type": "markdown",
   "id": "d8ad7598",
   "metadata": {},
   "source": [
    "# Задание №1"
   ]
  },
  {
   "cell_type": "markdown",
   "id": "278ba8a1",
   "metadata": {},
   "source": [
    "### Блок обработки"
   ]
  },
  {
   "cell_type": "code",
   "execution_count": null,
   "id": "80cb1471",
   "metadata": {},
   "outputs": [],
   "source": [
    "#Генератор СВ Бернулли\n",
    "def Bernrnd(p,varargin):\n",
    "    if p > 1 or p < 0:\n",
    "        os.error(\"p = %4.2f is out of bounds [0,1]\",p)\n",
    "    return uniform.rvs(size = varargin) < p"
   ]
  },
  {
   "cell_type": "code",
   "execution_count": null,
   "id": "8bd8774e",
   "metadata": {},
   "outputs": [],
   "source": [
    "#Генератор Биномиальной СВ\n",
    "#Принимает на вход вероятность, длину входного вектора распр. Бернулли и длину выходного вектора\n",
    "def Binomial(p,n,m):\n",
    "    if p > 1 and p < 0:\n",
    "        print(\"p = \",p, \" is out of bounds [0,1]\")\n",
    "        return \"Err\"\n",
    "    d = Bernrnd(p,[n,m])\n",
    "    res = d.sum(axis = 0)  \n",
    "    return res"
   ]
  },
  {
   "cell_type": "code",
   "execution_count": null,
   "id": "7a44a4e6",
   "metadata": {},
   "outputs": [],
   "source": [
    "#Генератор Геометрической СВ       \n",
    "def Geomrnd(p,n):\n",
    "    v = np.zeros(n)\n",
    "    i_v = np.zeros(n)\n",
    "    v_ones = np.ones(n)\n",
    "    while not i_v.all():\n",
    "        b_v = Bernrnd(p,n)\n",
    "        i_v += b_v\n",
    "        v += v_ones*(i_v == 0)\n",
    "    return v        "
   ]
  },
  {
   "cell_type": "markdown",
   "id": "39ee577c",
   "metadata": {},
   "source": [
    "### Блок вывода/визуализации"
   ]
  },
  {
   "cell_type": "markdown",
   "id": "a7e012c5",
   "metadata": {},
   "source": [
    "### Задание №1.1"
   ]
  },
  {
   "cell_type": "code",
   "execution_count": null,
   "id": "b2c5bd2a",
   "metadata": {},
   "outputs": [],
   "source": [
    "#1.1\n",
    "p_b = 1/4 #значение вероятности для Биномиального генератора\n",
    "n_b = 30 #число СВ Бернулли для Биномиального генератора\n",
    "n_cross = 10000 #число испытаний*\n",
    "\n",
    "z = Binomial(p_b,n_b,n_cross)\n",
    "fig = plt.figure()\n",
    "plt.hist(z,10,density = 1, label = 'empirical distr.', edgecolor = 'black')\n",
    "plt.grid(True)\n",
    "fig.legend()\n",
    "#plt.savefig('1_1.eps')"
   ]
  },
  {
   "cell_type": "markdown",
   "id": "b5213605",
   "metadata": {},
   "source": [
    "### Задание №1.2"
   ]
  },
  {
   "cell_type": "code",
   "execution_count": null,
   "id": "a8eab5d4",
   "metadata": {},
   "outputs": [],
   "source": [
    "#1.2\n",
    "p_g = 1/4 #значение вероятности для Геометрического генератора\n",
    "n_g = 10000 #число СВ Бернулли для Геометрического генератора\n",
    "z = Geomrnd(p_g,n_g)\n",
    "fig = plt.figure()\n",
    "plt.hist(z,40,density = 1, label = 'empirical distr.', edgecolor = 'black')\n",
    "plt.grid(True)\n",
    "#plt.title('Гистограмма Геометрического распределения.')\n",
    "\n",
    "x = np.linspace(0, 30)\n",
    "y = p_g*(1 - p_g)**(x)\n",
    "plt.plot(x,y,'r', label = 'theoretical distr.')\n",
    "plt.axis([0, ((1 - p_g)/p_g + 3 * sqrt((1 - p_g)/p_g**2)), 0, max(y)])\n",
    "fig.legend()\n",
    "#plt.savefig('1_2.eps')\n",
    "#plt.savefig('Geomrnd.eps')"
   ]
  },
  {
   "cell_type": "code",
   "execution_count": null,
   "id": "c99a0b04",
   "metadata": {},
   "outputs": [],
   "source": [
    "#Свойство отсутствия памяти\n",
    "#Для удобства полагаем, что m > n\n",
    "p_g = 1/4 #значение вероятности для Геометрического генератора\n",
    "n_g = 10000 #число СВ Бернулли для Геометрического генератора\n",
    "m_m = 4\n",
    "n_m = 0\n",
    "z = Geomrnd(p_g,n_g)\n",
    "z = np.delete(z,np.where(z < n_m))\n",
    "fig = plt.figure()\n",
    "plt.hist(z,30,density = 1, label = 'P(Geom > n)', edgecolor = 'black')\n",
    "z = np.delete(z,np.where(z < n_m + m_m))\n",
    "plt.hist(z,30,density=1, alpha = 0.5, label = 'P(Geom > n + m| Geom >= m)', edgecolor = 'red')\n",
    "plt.grid(True)\n",
    "plt.legend()\n",
    "plt.axis([0,15,0,0.4])#Верхняя граница по оси абсцисс была выбрана по правилу из пункта 11(с), но\n",
    "#выглядело не очень красиво, поэтому я решил уменьшить до 0.6\n",
    "#plt.savefig('1_3.pdf')\n",
    "\n"
   ]
  },
  {
   "cell_type": "markdown",
   "id": "c10473d1",
   "metadata": {},
   "source": [
    "### Задание №1.3"
   ]
  },
  {
   "cell_type": "code",
   "execution_count": null,
   "id": "c9c9b91f",
   "metadata": {},
   "outputs": [],
   "source": [
    "n = 1000 #количество испытаний для Задания №1.3\n",
    "k = sqrt(n)\n",
    "mas = Bernrnd(1/2,n)\n",
    "mas = np.array(mas)\n",
    "mas = 2*(mas - (1/2)*np.ones(n))\n",
    "mas = np.cumsum(mas)\n",
    "mas = mas/k\n",
    "fig = plt.figure()\n",
    "plt.plot(range(0,n),mas,label = 'График зависимости Y(i) = $S_i$/sqrt(n)')\n",
    "plt.grid(True)\n",
    "plt.xlim(left = 0, right = n)\n",
    "fig.legend()\n",
    "#plt.savefig('1_4.eps')"
   ]
  },
  {
   "cell_type": "markdown",
   "id": "70eb030a",
   "metadata": {},
   "source": [
    "# Задание №2"
   ]
  },
  {
   "cell_type": "markdown",
   "id": "cd2091a1",
   "metadata": {},
   "source": [
    "### Блок обработки"
   ]
  },
  {
   "cell_type": "code",
   "execution_count": null,
   "id": "d78c84f8",
   "metadata": {},
   "outputs": [],
   "source": [
    "#Генератор F аналитической лестницы кантора\n",
    "def Canrnd(n = 1, eps = 1e-10):\n",
    "    m = round(-np.log(eps)/np.log(3))\n",
    "    bern = np.matrix(Bernrnd(1/2,[n,m]))ё\n",
    "    deg = -1 * np.arange(1,m + 1,1)\n",
    "    deg = deg.transpose()\n",
    "    p_1 = np.matrix(np.power(3,deg, dtype = np.float64).transpose())\n",
    "    x = 2 * bern * p_1.transpose() \n",
    "    p_1 = np.matrix(np.power(2,deg, dtype = np.float64).transpose())\n",
    "    F = bern * p_1.transpose()\n",
    "    return [np.array(x.transpose())[0], np.array(F.transpose())[0]]"
   ]
  },
  {
   "cell_type": "code",
   "execution_count": null,
   "id": "35f3a1ef",
   "metadata": {},
   "outputs": [],
   "source": [
    "#Генератор F_n эмпирической лестницы кантора\n",
    "def Canrnd_n(n):\n",
    "    return np.arange(1,n+1)/n"
   ]
  },
  {
   "cell_type": "code",
   "execution_count": null,
   "id": "179443da",
   "metadata": {},
   "outputs": [],
   "source": [
    "#Функция Колмогорова\n",
    "def Kolmdf_aprx(x):\n",
    "    return 1 - 2*np.exp(-2*x**2)"
   ]
  },
  {
   "cell_type": "code",
   "execution_count": null,
   "id": "7d432e40",
   "metadata": {},
   "outputs": [],
   "source": [
    "#Расчет статистики Смирнова\n",
    "def Smirnov_statistic(x, y):\n",
    "    n = len(x)\n",
    "    m = len(y)\n",
    "    x = np.sort(x)\n",
    "    y = np.sort(y)\n",
    "    z = np.concatenate((x,y))\n",
    "    z = np.sort(z)\n",
    "    x = set(x)\n",
    "    y = set(y)\n",
    "    max_result = 0 \n",
    "    result = 0\n",
    "    for i in range(len(z)):\n",
    "        if z[i] in x:\n",
    "            result = result + 1/n\n",
    "        if z[i] in y:\n",
    "            result = result - 1/m\n",
    "        if abs(result) > max_result:\n",
    "            max_result = abs(result)\n",
    "    return max_result"
   ]
  },
  {
   "cell_type": "code",
   "execution_count": null,
   "id": "ebce8428",
   "metadata": {},
   "outputs": [],
   "source": [
    "#Приближение K_alpha. Будет использоватся в отчете для демонстрации решения\n",
    "def  K_alpha(alpha):\n",
    "    return np.sqrt(0.5*np.log(2/(1 - alpha)))"
   ]
  },
  {
   "cell_type": "markdown",
   "id": "2c671f12",
   "metadata": {},
   "source": [
    "### Блок вывода/визуализации"
   ]
  },
  {
   "cell_type": "markdown",
   "id": "68cb38ad",
   "metadata": {},
   "source": [
    "### Задание №2.1"
   ]
  },
  {
   "cell_type": "code",
   "execution_count": null,
   "id": "74fb8d60",
   "metadata": {},
   "outputs": [],
   "source": [
    "#F(x)\n",
    "n = 10000#количество точек разбиения\n",
    "x, F = Canrnd(n)\n",
    "x = np.sort(x)\n",
    "F = np.sort(F)\n",
    "d = Canrnd_n(n)\n",
    "plt.plot(x,d,'r--',label = 'F_n ')\n",
    "plt.plot(x,F,label = 'F', alpha = 0.9)\n",
    "plt.legend()\n",
    "plt.xlabel('x')\n",
    "plt.ylabel('F(x)')\n",
    "#plt.savefig('2_1.pdf')"
   ]
  },
  {
   "cell_type": "code",
   "execution_count": null,
   "id": "f35a412f",
   "metadata": {},
   "outputs": [],
   "source": [
    "#Проверка гипотез для серии\n",
    "l = 10000\n",
    "numb = 0\n",
    "alpha = 0.95\n",
    "for i in range(l):\n",
    "    x, F = Canrnd(n)\n",
    "    F = np.sort(F)\n",
    "    d = Canrnd_n(n)\n",
    "    D_n = np.max(np.abs(F - d))\n",
    "    if np.sqrt(n)*D_n < K_alpha(alpha): numb += 1\n",
    "print(numb)        "
   ]
  },
  {
   "cell_type": "markdown",
   "id": "6a988a4a",
   "metadata": {},
   "source": [
    "### Задание №2.2"
   ]
  },
  {
   "cell_type": "code",
   "execution_count": null,
   "id": "c9c33889",
   "metadata": {},
   "outputs": [],
   "source": [
    "# распределения X и 1 - X и статистика Смирнова\n",
    "n_x = 10000#количество точек для демонстрации 1 - X ~ X\n",
    "x, F = Canrnd(n_x)\n",
    "x_1 = np.sort(1 - x)\n",
    "F_1 = np.sort(1 - F)\n",
    "x = np.sort(x)\n",
    "F = np.sort(F)\n",
    "plt.plot(x_1,F_1,'r--',alpha = 1, label = \"1 - X\")\n",
    "plt.plot(x,F,alpha = 0.5, label = \"X\")\n",
    "plt.legend()\n",
    "D_n_m = Smirnov_statistic(x,x_1)\n",
    "plt.xlabel('x')\n",
    "plt.ylabel('F(x)')\n",
    "#plt.savefig('2_3.pdf')"
   ]
  },
  {
   "cell_type": "code",
   "execution_count": null,
   "id": "9da0a6ea",
   "metadata": {},
   "outputs": [],
   "source": [
    "l = 100\n",
    "numb = 0\n",
    "alpha = 0.95\n",
    "n_x = 1000\n",
    "for i in range(l):\n",
    "    x, F = Canrnd(n_x)\n",
    "    x_1 = np.sort(1 - x)\n",
    "    F_1 = np.sort(1 - F)\n",
    "    x = np.sort(x)\n",
    "    F = np.sort(F)\n",
    "    D_n_m = Smirnov_statistic(x,x_1)\n",
    "    if np.sqrt(n*m/(n+m))*D_n_m < K_alpha(alpha): numb += 1\n",
    "print(numb)        "
   ]
  },
  {
   "cell_type": "code",
   "execution_count": null,
   "id": "b69b8e2a",
   "metadata": {},
   "outputs": [],
   "source": [
    "#Самоподобие Y/3 и Y \\in [0,1/3)\n",
    "n = 100000\n",
    "x, F = Canrnd(n)\n",
    "x = np.sort(x)\n",
    "F = np.sort(F)\n",
    "x_1 = x[x < 1/3]\n",
    "x_2 = x/3\n",
    "plt.plot(x_1,Canrnd_n(x_1.size),alpha = 0.5, label = '$Y \\in [0,1/3)$')\n",
    "plt.plot(x_2,Canrnd_n(x_2.size), 'r--',alpha = 1,label = 'Y/3')\n",
    "plt.legend()\n",
    "plt.xlabel('x')\n",
    "plt.ylabel('F(x)')\n",
    "plt.savefig('2_4.pdf')"
   ]
  },
  {
   "cell_type": "code",
   "execution_count": null,
   "id": "bf18e437",
   "metadata": {},
   "outputs": [],
   "source": [
    "l = 1000\n",
    "numb = 0\n",
    "alpha = 0.95\n",
    "n_1 = 1000\n",
    "for i in range(l):\n",
    "    x, F = Canrnd(n_1)\n",
    "    x_1 = x/3\n",
    "    x_2 = x[x < 1/3]\n",
    "    x_1, x_2 = np.sort(x_1), np.sort(x_2)\n",
    "    D_n_m = Smirnov_statistic(x_1,x_2)\n",
    "    n = len(x)\n",
    "    m = len(x_1)\n",
    "    if np.sqrt(n*m/(n+m))*D_n_m < K_alpha(alpha): numb += 1\n",
    "print(numb)        "
   ]
  },
  {
   "cell_type": "markdown",
   "id": "102d98d5",
   "metadata": {},
   "source": [
    "### Задание №2.3"
   ]
  },
  {
   "cell_type": "code",
   "execution_count": null,
   "id": "c05baaa1",
   "metadata": {},
   "outputs": [],
   "source": [
    "#Расчет математического ожидания и дисперсии СВ\n",
    "x, F = Canrnd(n)#теоретическое\n",
    "x_1 = Canrnd_n(n)#эмпирическое\n",
    "vec = np.arange(1,len(x_1) + 1,1)\n",
    "Ex_emp = np.cumsum(x)/vec\n",
    "Dx_emp = np.cumsum(x**2)/vec - Ex_emp**2\n",
    "plt.semilogx(vec, Ex_emp)\n",
    "plt.semilogx([0,vec[-1]],[1/2,1/2])\n",
    "#plt.savefig('2_5.eps')"
   ]
  },
  {
   "cell_type": "code",
   "execution_count": null,
   "id": "a7b4974d",
   "metadata": {},
   "outputs": [],
   "source": [
    "plt.semilogx(vec,Dx_emp)\n",
    "plt.semilogx([0,vec[-1]],[0.125,0.125])\n",
    "#plt.savefig('2_6.eps')"
   ]
  },
  {
   "cell_type": "markdown",
   "id": "3ce8c10c",
   "metadata": {},
   "source": [
    "# Задание №3"
   ]
  },
  {
   "cell_type": "markdown",
   "id": "6fd24286",
   "metadata": {},
   "source": [
    "### Блок обработки"
   ]
  },
  {
   "cell_type": "code",
   "execution_count": null,
   "id": "ae77994c",
   "metadata": {},
   "outputs": [],
   "source": [
    "#Генератор СВ равномерного распределения\n",
    "def Urnd(varargin):\n",
    "    return uniform.rvs(size = varargin)"
   ]
  },
  {
   "cell_type": "code",
   "execution_count": null,
   "id": "40e93347",
   "metadata": {},
   "outputs": [],
   "source": [
    "#Генератор СВ экспоненциального распеределения\n",
    "def Exprnd(lamb, varargin):\n",
    "    return -(1/lamb)*np.log(1 - Urnd(varargin))"
   ]
  },
  {
   "cell_type": "code",
   "execution_count": null,
   "id": "4f4d49c3",
   "metadata": {},
   "outputs": [],
   "source": [
    "#Датчик Пуассоновского распределения на основе датчика экспоненциального\n",
    "def Puassrnd(lamb,varargin):\n",
    "    ans = np.array([])\n",
    "    for i in range(n_cross):\n",
    "        exprnd = Exprnd(lamb,varargin)\n",
    "        mas_s = np.cumsum(exprnd)\n",
    "        n_mas = np.argwhere(mas_s < 1)\n",
    "        if n_mas.size < 1:\n",
    "            ans = np.append(ans,0)\n",
    "        else:\n",
    "            ans = np.append(ans,np.max(n_mas) + 1)     \n",
    "    return ans    "
   ]
  },
  {
   "cell_type": "code",
   "execution_count": null,
   "id": "53881017",
   "metadata": {},
   "outputs": [],
   "source": [
    "#Датчик Нормального распределения через метод моделирования с.в. парами с переходом в полярные координаты\n",
    "def Normrndpar(varagrin):\n",
    "    lamb = 0.5\n",
    "    a = 0\n",
    "    b = 2*np.pi\n",
    "    z_1 = []\n",
    "    z_2 = []\n",
    "    omega_m = Exprnd(lamb, varagrin)\n",
    "    fi_m = uniform.rvs(size = varagrin,loc = 0, scale = b)\n",
    "    ksi = np.sqrt(omega_m)*np.cos(fi_m)\n",
    "    nu = np.sqrt(omega_m)*np.sin(fi_m)\n",
    "    return [ksi, nu]\n"
   ]
  },
  {
   "cell_type": "code",
   "execution_count": null,
   "id": "388ec6eb",
   "metadata": {},
   "outputs": [],
   "source": [
    "def Bin(n,p):\n",
    "    mas = np.zeros(n)\n",
    "    for i in range(n):\n",
    "        mas[i] = sum(Bernrnd(p,n))\n",
    "    return mas"
   ]
  },
  {
   "cell_type": "code",
   "execution_count": null,
   "id": "08a9cd53",
   "metadata": {},
   "outputs": [],
   "source": [
    "#Статистика Пирсона\n",
    "def Pierson(lamb, n, num):\n",
    "    k = 20\n",
    "    binrv = Bin(n,lamb/n)\n",
    "    brv_max = np.max(binrv)\n",
    "    poisrv = np.zeros(k)\n",
    "    n_k = np.zeros(k)\n",
    "    chi_sq = 0\n",
    "    #poisrv = Puassrnd(lamb, k)\n",
    "    for i in range(k):\n",
    "        poisrv[i] = (lamb**i)*np.exp(-lamb)/factorial(i)\n",
    "        for j in range(num):\n",
    "            if binrv[j] == i:\n",
    "                n_k[i] += 1            \n",
    "    for i in range(int(brv_max)):\n",
    "            chi_sq += ((n_k[i]/num - poisrv[i])**2)/poisrv[i]\n",
    "    chi_sq = chi_sq*num\n",
    "    return chi_sq"
   ]
  },
  {
   "cell_type": "code",
   "execution_count": null,
   "id": "2edbad80",
   "metadata": {},
   "outputs": [],
   "source": [
    "def T_Student(X):\n",
    "    return [np.sum(X)/len(X),np.sum((X - np.sum(X)/len(X))**2)/(len(X) - 1)]"
   ]
  },
  {
   "cell_type": "markdown",
   "id": "f2f5b0cd",
   "metadata": {},
   "source": [
    "### Блок вывода/визуализации"
   ]
  },
  {
   "cell_type": "markdown",
   "id": "8d04f577",
   "metadata": {},
   "source": [
    "### Задание №3.1"
   ]
  },
  {
   "cell_type": "code",
   "execution_count": null,
   "id": "997b4535",
   "metadata": {},
   "outputs": [],
   "source": [
    "#Построить датчик экспоненциального распределения\n",
    "lamb_exp = 1/5 #параметр lambda для Экспоненциального генератора\n",
    "n_cross = 10000\n",
    "d = Exprnd(lamb_exp,n_cross)\n",
    "x = np.linspace(0,30,100)\n",
    "y = lamb_exp*np.exp(-lamb_exp*x)\n",
    "plt.hist(d,40,density = 1,label = 'emperical distr.',edgecolor = 'black')\n",
    "plt.plot(x,y, label = 'theoretical distrb')\n",
    "plt.grid(True)\n",
    "plt.legend()\n",
    "\n",
    "alpha = 0.99\n",
    "plt.axis([0,-1/lamb_exp * np.log(1 - alpha),0,0.2])# F^(-1)(\\alpha) = -1/lamb_exp ln(1 - \\alpha)\n",
    "#plt.savefig('3_1.eps')"
   ]
  },
  {
   "cell_type": "code",
   "execution_count": null,
   "id": "89e57046",
   "metadata": {},
   "outputs": [],
   "source": [
    "#Свойство отсутствия памяти\n",
    "lamb_exp = 0.3\n",
    "z = Exprnd(lamb_exp,n_cross)\n",
    "t_1 = 1.5\n",
    "t_2 = 0\n",
    "z = np.delete(z,np.where(z < t_2))\n",
    "plt.hist(z,40,density=1, alpha = 0.5, label = 'P(X > t_1)', edgecolor = 'black')\n",
    "z = np.delete(z,np.where(z < t_1 + t_2))\n",
    "plt.hist(z,40,density=1, alpha = 0.5, label = 'P(X > t_1 + t_2| X >= t_2)', edgecolor = 'red')\n",
    "plt.legend()\n",
    "plt.grid(True)\n",
    "alpha = 0.99\n",
    "plt.axis([0,-1/lamb_exp * np.log(1 - alpha),0,0.3])#\n",
    "#plt.savefig('3_2.pdf')"
   ]
  },
  {
   "cell_type": "code",
   "execution_count": null,
   "id": "ba76ad71",
   "metadata": {},
   "outputs": [],
   "source": [
    "#Найти распределение С.В. Y = min(X_1,X_2,...,X_n)\n",
    "lamb_mas = 10*np.random.rand(n)#набор lamda(Задание №3.1)(0 < lambda < 10)\n",
    "n = 10 #количество случайных величин(Задание №3.1)\n",
    "z = []\n",
    "for i in range(n_cross):\n",
    "    Y = np.min(Exprnd(lamb_mas,n))\n",
    "    z.append(Y)\n",
    "plt.hist(z,40,density = 1, edgecolor = 'black',label = 'Y = min(X_i)')\n",
    "lamb_sum = np.sum(lamb_mas)\n",
    "z = Exprnd(lamb_sum, n_cross)\n",
    "plt.hist(z,40,density = 1, alpha = 0.5, edgecolor = 'red', label = 'Exp(lambda_1 + ... + lambda_n)')\n",
    "plt.grid(True)\n",
    "plt.legend()\n",
    "alpha = 0.99\n",
    "plt.axis([0,-1/lamb_sum * np.log(1 - alpha),0,50])#\n",
    "#plt.savefig('3_3.pdf')"
   ]
  },
  {
   "cell_type": "markdown",
   "id": "26fb7550",
   "metadata": {},
   "source": [
    "### Задание №3.2"
   ]
  },
  {
   "cell_type": "code",
   "execution_count": null,
   "id": "e2019caf",
   "metadata": {},
   "outputs": [],
   "source": [
    "#Датчик распределения Пуассона на основе экспоненциального\n",
    "lamb_puasson = 2#параметр lambda для распределения Пуассона\n",
    "z = Puassrnd(lamb_puasson, 10000)\n",
    "plt.hist(z,density = 1, edgecolor = 'black',label = 'emperical distrb.')\n",
    "x = np.linspace(0,10,100)\n",
    "y = (np.exp(-lamb_puasson)*lamb_puasson**x)/factorial(x)\n",
    "plt.plot(x,y,label = 'theoretical distrb.')\n",
    "plt.legend()\n",
    "plt.grid(True)\n",
    "plt.axis([0,4*lamb_puasson,0,0.34])#\n",
    "#plt.savefig('3_4.eps')"
   ]
  },
  {
   "cell_type": "markdown",
   "id": "aab537f3",
   "metadata": {},
   "source": [
    "### Задание №3.3"
   ]
  },
  {
   "cell_type": "code",
   "execution_count": null,
   "id": "54220554",
   "metadata": {},
   "outputs": [],
   "source": [
    "#Датчик распределения Пуассона как предел биномиального распределения\n",
    "n_puass = 30\n",
    "z = Binomial(lamb_puasson/n_puass, n_puass,n_cross)\n",
    "plt.hist(z,density = 1, edgecolor = 'black', label = 'emperical distrb.')\n",
    "x = np.linspace(0,10,100)\n",
    "y = (np.exp(-lamb_puasson)*lamb_puasson**x)/factorial(x)\n",
    "plt.plot(x,y,label = 'theoretical distrb.')\n",
    "plt.grid(True)\n",
    "plt.legend()\n",
    "plt.axis([0,4*lamb_puasson,0,0.34])#\n",
    "#plt.savefig('3_5.eps')"
   ]
  },
  {
   "cell_type": "markdown",
   "id": "cc145a1e",
   "metadata": {},
   "source": [
    "### Задание №3.4"
   ]
  },
  {
   "cell_type": "code",
   "execution_count": null,
   "id": "7028110d",
   "metadata": {},
   "outputs": [],
   "source": [
    "#Датчик стандартного нормального распределения методом моделирования с.в. парами с переходом в полярные координаты\n",
    "z = Normrndpar(n_cross)\n",
    "fig = plt.figure()\n",
    "n_norm_1 = plt.hist(z[0],density=1,edgecolor = 'black')\n",
    "plt.grid(True)\n",
    "plt.axis([-3,3,0,0.4])#\n",
    "fig1 = plt.figure()\n",
    "n_norm_2 = plt.hist(z[1],density=1,edgecolor = 'black')\n",
    "plt.grid(True)\n",
    "plt.axis([-3,3,0,0.4])#\n",
    "#plt.savefig('3_6.eps')"
   ]
  },
  {
   "cell_type": "code",
   "execution_count": null,
   "id": "4396a25e",
   "metadata": {},
   "outputs": [],
   "source": [
    "#Проверка критерия t-Стьюдента\n",
    "alpha = 0.05\n",
    "X_m_cos, S_x_cos = T_Student(z[0])\n",
    "X_m_sin, S_x_sin = T_Student(z[1])\n",
    "t = (X_m_cos - X_m_sin)/np.sqrt(S_x_cos/len(z[0]) + S_x_sin/len(z[1]))\n",
    "if (t >= stats.t.ppf(alpha/2,n_cross-1) and (t <= stats.t.ppf(1 - alpha/2,n_cross - 1))):\n",
    "    print('YES')\n",
    "else:\n",
    "    print('NO')"
   ]
  },
  {
   "cell_type": "code",
   "execution_count": null,
   "id": "26db4072",
   "metadata": {},
   "outputs": [],
   "source": [
    "l = 1000\n",
    "alpha = 0.05\n",
    "n_cross = 10000\n",
    "res = 0\n",
    "for i in range(l):\n",
    "    z = Normrndpar(n_cross)\n",
    "    X_m_cos, S_x_cos = T_Student(z[0])\n",
    "    X_m_sin, S_x_sin = T_Student(z[1])\n",
    "    t = (X_m_cos - X_m_sin)/np.sqrt(S_x_cos/len(z[0]) + S_x_sin/len(z[1]))\n",
    "    if (t >= stats.t.ppf(alpha/2,n_cross-1) and (t <= stats.t.ppf(1 - alpha/2,n_cross - 1))): res+= 1\n",
    "print(res)    "
   ]
  },
  {
   "cell_type": "code",
   "execution_count": null,
   "id": "f1c099bc",
   "metadata": {},
   "outputs": [],
   "source": [
    "#Проверка критерия Фишера\n",
    "alpha = 0.95\n",
    "sum_n_cos = np.sum(z[0])\n",
    "sum_n_sin = np.sum(z[1])\n",
    "\n",
    "X_cos = sum_n_cos/n_cross\n",
    "X_sin = sum_n_sin/n_cross\n",
    "\n",
    "S_cos = np.sum((z[0] - X_cos)**2)/(n_cross - 1)\n",
    "S_sin = np.sum((z[1] - X_sin)**2)/(n_cross - 1)\n",
    "\n",
    "F_0 = S_cos/S_sin\n",
    "\n",
    "if (F_0 < f.ppf(alpha/2, n_cross - 1, n_cross - 1) and F_0 > f.ppf(1 - alpha/2, n_cross - 1, n_cross - 1)):\n",
    "    print('YES')\n",
    "else:\n",
    "    print('NO')"
   ]
  },
  {
   "cell_type": "code",
   "execution_count": null,
   "id": "ec020097",
   "metadata": {},
   "outputs": [],
   "source": [
    "l = 1000\n",
    "alpha = 0.05\n",
    "n_cross = 1000\n",
    "res = 0\n",
    "for i in range(l):\n",
    "    z = Normrndpar(n_cross)\n",
    "    sum_n_cos = np.sum(z[0])\n",
    "    sum_n_sin = np.sum(z[1])\n",
    "\n",
    "    X_cos = sum_n_cos/n_cross\n",
    "    X_sin = sum_n_sin/n_cross\n",
    "\n",
    "    S_cos = np.sum((z[0] - X_cos)**2)/(n_cross - 1)\n",
    "    S_sin = np.sum((z[1] - X_sin)**2)/(n_cross - 1)\n",
    "\n",
    "    F_0 = S_cos/S_sin\n",
    "    \n",
    "    if not (F_0 < f.ppf(alpha/2, n_cross - 1, n_cross - 1) or F_0 > f.ppf(1 - alpha/2, n_cross - 1, n_cross - 1)): res += 1\n",
    "print(res)    "
   ]
  },
  {
   "cell_type": "markdown",
   "id": "3e5414cd",
   "metadata": {},
   "source": [
    "# Задание №4"
   ]
  },
  {
   "cell_type": "markdown",
   "id": "77636f13",
   "metadata": {},
   "source": [
    "### Блок обработки"
   ]
  },
  {
   "cell_type": "code",
   "execution_count": null,
   "id": "7e8a11a4",
   "metadata": {},
   "outputs": [],
   "source": [
    "#Генератор с.в. Коши\n",
    "def Cauchyrnd(x_0,ips,varargin):\n",
    "    #F^(-1)(Y ~ U(0,1)) = X - с.в. Коши\n",
    "    #x = uniform.rvs(size = varargin)\n",
    "    x = np.random.rand(varargin)\n",
    "    ans = x_0 + ips*np.tan(np.pi*(x - 1/2))\n",
    "    return ans"
   ]
  },
  {
   "cell_type": "code",
   "execution_count": null,
   "id": "b8e1f0c6",
   "metadata": {},
   "outputs": [],
   "source": [
    "#Генератор нормального распределение с помощью метода Фон-Неймана(алгоритм взят с лекций)\n",
    "def Normfnrnd(n,a = 0, b = 1):\n",
    "    d = np.array([])\n",
    "    while d.size < n:\n",
    "        X = Cauchyrnd(a,b,1)\n",
    "        p = np.exp(1/2)*(1/2)*np.exp(-(X**2)/2)*(X**2 + 1)\n",
    "        if Bernrnd(p,1):\n",
    "            d = np.append(d,X[0])        \n",
    "    return d    "
   ]
  },
  {
   "cell_type": "markdown",
   "id": "19c374c6",
   "metadata": {},
   "source": [
    "### Блок вывода/визуализации"
   ]
  },
  {
   "cell_type": "markdown",
   "id": "1ae66434",
   "metadata": {},
   "source": [
    "### Задание №4.1"
   ]
  },
  {
   "cell_type": "code",
   "execution_count": null,
   "id": "a5f0ecad",
   "metadata": {},
   "outputs": [],
   "source": [
    "#Датчик распределения Коши\n",
    "x_0 = 0\n",
    "ips = 1\n",
    "n = 1000\n",
    "z = Cauchyrnd(x_0,ips,n)\n",
    "plt.hist(z, density=1, bins=100, range=(-8, 8),edgecolor = 'black', label='empirical distrb.')\n",
    "x_ls = np.linspace(-8,8,1000)\n",
    "plt.plot(x_ls,cauchy.pdf(x_ls), 'red', label = 'theoretical.')\n",
    "plt.legend()\n",
    "plt.grid(True)\n",
    "plt.xlim([-8,8])\n",
    "#plt.savefig('4_1.eps')"
   ]
  },
  {
   "cell_type": "markdown",
   "id": "92335123",
   "metadata": {},
   "source": [
    "### Задание №4.2"
   ]
  },
  {
   "cell_type": "code",
   "execution_count": null,
   "id": "3075b550",
   "metadata": {},
   "outputs": [],
   "source": [
    "n_cross = 10000\n",
    "mu = 0\n",
    "sigma = 1\n",
    "z = Normfnrnd(n_cross)\n",
    "fig = plt.figure()\n",
    "plt.hist(z,10,density=1,edgecolor = 'black',label = 'emperical distrb.')\n",
    "x = np.linspace(mu - 3*sigma, mu + 3*sigma, 100)\n",
    "plt.plot(x,norm.pdf(x,mu,sigma), label = 'theoretical distrb.')\n",
    "plt.legend()\n",
    "plt.grid(True)\n",
    "plt.xlim([mu - 3*sigma,mu + 3*sigma])\n",
    "#plt.savefig('4_2.eps')"
   ]
  },
  {
   "cell_type": "code",
   "execution_count": null,
   "id": "e341b641",
   "metadata": {},
   "outputs": [],
   "source": [
    "probplot(z, plot = plt)\n",
    "#plt.show()\n",
    "#plt.savefig('4_3.eps')"
   ]
  },
  {
   "cell_type": "markdown",
   "id": "0c7d5fa2",
   "metadata": {},
   "source": [
    "### Задание №4.3"
   ]
  },
  {
   "cell_type": "code",
   "execution_count": null,
   "id": "1d5993b6",
   "metadata": {},
   "outputs": [],
   "source": [
    "n = 10000\n",
    "start_time = time()\n",
    "z = Normfnrnd(n)\n",
    "print('n =',n,'; von Neumann time:',time() - start_time)\n",
    "start_time = time()\n",
    "z = Normrndpar(n)\n",
    "print('n =',n,'; Polar time:',time() - start_time)"
   ]
  },
  {
   "cell_type": "markdown",
   "id": "85663485",
   "metadata": {},
   "source": [
    "# Задание №5"
   ]
  },
  {
   "cell_type": "markdown",
   "id": "9ef4b9d6",
   "metadata": {},
   "source": [
    "### Блок ввода параметров"
   ]
  },
  {
   "cell_type": "code",
   "execution_count": null,
   "id": "277e6fcc",
   "metadata": {},
   "outputs": [],
   "source": [
    "n_cross = 10000\n",
    "mu = 0\n",
    "sigma_2 = 1 \n",
    "a = 0#кф. сдвига Коши\n",
    "b = 1.5#кф. масштаба Коши"
   ]
  },
  {
   "cell_type": "markdown",
   "id": "f7d93f17",
   "metadata": {},
   "source": [
    "### Блок обработки"
   ]
  },
  {
   "cell_type": "code",
   "execution_count": null,
   "id": "beb67e3f",
   "metadata": {},
   "outputs": [],
   "source": [
    "#ЗБЧ\n",
    "def Lln_n(varargin,mu,sigma_2):\n",
    "    z = norm(loc = mu, scale = sigma_2).rvs(size = varargin)\n",
    "    z = np.cumsum(z)\n",
    "    i_n = np.linspace(1,varargin,varargin)\n",
    "    z = z/i_n\n",
    "    plt.semilogx(i_n,z)\n",
    "    ones = np.ones(varargin)\n",
    "    plt.semilogx(i_n,mu*ones)\n",
    "    plt.grid(True)"
   ]
  },
  {
   "cell_type": "code",
   "execution_count": null,
   "id": "298d6ec0",
   "metadata": {},
   "outputs": [],
   "source": [
    "#ЦПТ\n",
    "def Clt_n(varargin,mu,sigma_2):\n",
    "    m = 1000\n",
    "    res = np.zeros(m)\n",
    "    for i in range(m):\n",
    "        z = norm.rvs(loc = mu,scale = sigma_2,size = varargin)\n",
    "        res[i] = np.sum(z)\n",
    "    res = res/varargin    \n",
    "    res = (res - mu)*np.sqrt(varargin)\n",
    "    plt.hist(res,40,density=1,edgecolor = 'black',label = 'empirical.')"
   ]
  },
  {
   "cell_type": "code",
   "execution_count": null,
   "id": "2311efd0",
   "metadata": {},
   "outputs": [],
   "source": [
    "def Cauchy(a,b,x):\n",
    "    return a + b*np.tan((x - 0.5)*np.pi)\n"
   ]
  },
  {
   "cell_type": "code",
   "execution_count": null,
   "id": "ec614ccd",
   "metadata": {},
   "outputs": [],
   "source": [
    "def Norm_an(x,mu,sigma):\n",
    "    return 1/(sigma*np.sqrt(2*np.pi))*np.exp(-(x - mu)**2/(2*sigma**2))"
   ]
  },
  {
   "cell_type": "markdown",
   "id": "9b6b1b38",
   "metadata": {},
   "source": [
    "### Блок вывода/визуализации"
   ]
  },
  {
   "cell_type": "markdown",
   "id": "d860b44b",
   "metadata": {},
   "source": [
    "### Задание №5.1"
   ]
  },
  {
   "cell_type": "code",
   "execution_count": null,
   "id": "cfe7ca90",
   "metadata": {},
   "outputs": [],
   "source": [
    "#Иллюстрация ЗБЧ\n",
    "Lln_n(n_cross,mu,sigma_2)\n",
    "#plt.savefig('5_2.eps')"
   ]
  },
  {
   "cell_type": "code",
   "execution_count": null,
   "id": "5cc81fe6",
   "metadata": {},
   "outputs": [],
   "source": [
    "#Иллюстрация ЦПТ\n",
    "Clt_n(n_cross,mu,sigma_2)\n",
    "x = np.linspace(-3,3,50)\n",
    "plt.plot(x,Norm_an(x,mu,np.sqrt(sigma_2)),label = 'theoretical')\n",
    "plt.grid(True)\n",
    "plt.xlim([mu - 3*sigma_2,mu + 3*sigma_2])\n",
    "plt.legend()\n",
    "#plt.savefig('5_3.eps')"
   ]
  },
  {
   "cell_type": "markdown",
   "id": "e0575e92",
   "metadata": {},
   "source": [
    "### Задание №5.2"
   ]
  },
  {
   "cell_type": "code",
   "execution_count": null,
   "id": "4bec86e5",
   "metadata": {},
   "outputs": [],
   "source": [
    "#Доверительный интервал для мат. ожидания\n",
    "mu = 1\n",
    "sigma = 3\n",
    "n = 10000\n",
    "alpha_1 = 0.05\n",
    "n_rnd = norm.rvs(mu, sigma, size = n)\n",
    "n_grid = np.arange(1,n + 1)\n",
    "EX = np.cumsum(n_rnd)/n_grid\n",
    "DX = np.cumsum(n_rnd**2)/n_grid - EX**2\n",
    "t = stats.t.ppf(1-alpha_1/2,np.arange(0,n)) \n",
    "mu_l = EX - (np.sqrt(DX)/np.sqrt(n_grid))*t\n",
    "mu_u = EX + (np.sqrt(DX)/np.sqrt(n_grid))*t\n",
    "plt.semilogx(n_grid,mu_l,n_grid,mu_u,np.ones(n)*mu)\n",
    "plt.xlim(left = 2)\n",
    "plt.grid(True)\n",
    "#plt.savefig('5_4.eps')"
   ]
  },
  {
   "cell_type": "code",
   "execution_count": null,
   "id": "08b904c8",
   "metadata": {},
   "outputs": [],
   "source": [
    "#Доверительный интервал для дисперсии\n",
    "alpha_2 = 0.6\n",
    "chi_1 = chi2.ppf((1 - alpha_2)/2,np.arange(0,n))\n",
    "chi_2 = chi2.ppf((1 + alpha_2)/2,np.arange(0,n))\n",
    "sigma_l = np.arange(0,n)*DX/chi_1\n",
    "sigma_u = np.arange(0,n)*DX/chi_2\n",
    "plt.semilogx(n_grid, sigma_l, n_grid, sigma_u, np.ones(n)*sigma**2)\n",
    "plt.grid(True)\n",
    "#plt.savefig('5_5.eps')"
   ]
  },
  {
   "cell_type": "markdown",
   "id": "493cb1f4",
   "metadata": {},
   "source": [
    "### Задание №5.3"
   ]
  },
  {
   "cell_type": "code",
   "execution_count": null,
   "id": "68e6c532",
   "metadata": {},
   "outputs": [],
   "source": [
    "z = Cauchyrnd(a,b,n_cross)\n",
    "z = np.cumsum(z)\n",
    "i_n = np.linspace(1,n_cross,n_cross)\n",
    "z = z/i_n\n",
    "plt.semilogx(i_n,z,'b.',ms = 0.2,label = '$S_n$ / n')\n",
    "plt.plot(i_n,a*np.ones(n_cross), 'red', label = '$ \\mu$ ')\n",
    "plt.grid(True)\n",
    "plt.xlim(left = 1, right = 10000)\n",
    "plt.legend()\n",
    "#plt.savefig('5_1.pdf')"
   ]
  },
  {
   "cell_type": "markdown",
   "id": "62e5e3fe",
   "metadata": {},
   "source": [
    "# Задание №6"
   ]
  },
  {
   "cell_type": "markdown",
   "id": "aef7109a",
   "metadata": {},
   "source": [
    "### Блок обработки"
   ]
  },
  {
   "cell_type": "code",
   "execution_count": null,
   "id": "ddefca95",
   "metadata": {},
   "outputs": [],
   "source": [
    "#Функция f(x) для метода Монте-Карло\n",
    "def F_m_c(x):\n",
    "    return (np.pi**5) * np.exp(-1/((2**7)*np.prod(x)**2))/np.prod(x)**2"
   ]
  },
  {
   "cell_type": "code",
   "execution_count": null,
   "id": "098b8738",
   "metadata": {},
   "outputs": [],
   "source": [
    "#Функция с произведенной заменой для метода квадратур\n",
    "def F_s_m(x):\n",
    "    return (np.pi**10) * np.exp(-(sum(np.tan((np.pi/2)*x)**2) + 1/2**7*(np.prod((1/np.tan((np.pi/2)*x))**2))))/np.prod(np.sin((np.pi/2)*x)**2)"
   ]
  },
  {
   "cell_type": "code",
   "execution_count": null,
   "id": "2ee4613d",
   "metadata": {},
   "outputs": [],
   "source": [
    "def Mega_F(p1, p2, p3, p4, p5, p6, p7, p8, p9, p10):\n",
    "    sum_tg = (np.tan(p1*np.pi/2) ** 2) + (np.tan(p2*np.pi/2) ** 2) + (np.tan(p3*np.pi/2) ** 2) +\\\n",
    "             (np.tan(p4*np.pi/2) ** 2) + (np.tan(p5*np.pi/2) ** 2) + (np.tan(p6*np.pi/2) ** 2) +\\\n",
    "             (np.tan(p7*np.pi/2) **  2) + (np.tan(p8*np.pi/2) ** 2) + (np.tan(p9*np.pi/2) ** 2) +\\\n",
    "             (np.tan(p10*np.pi/2) ** 2)\n",
    "                \n",
    "    prog_tg = (np.tan(p1*np.pi/2) ** 2) * (np.tan(p2*np.pi/2) ** 2) * (np.tan(p3*np.pi/2) ** 2) *\\\n",
    "              (np.tan(p4*np.pi/2) ** 2) * (np.tan(p5*np.pi/2) ** 2) * (np.tan(p6*np.pi/2) ** 2) *\\\n",
    "              (np.tan(p7*np.pi/2) ** 2) * (np.tan(p8*np.pi/2) ** 2) * (np.tan(p9*np.pi/2) ** 2) *\\\n",
    "              (np.tan(p10*np.pi/2) ** 2)\n",
    "                \n",
    "    prog_cos = (np.cos(p1*np.pi/2) ** 2) * (np.cos(p2*np.pi/2) ** 2) * (np.cos(p3*np.pi/2) ** 2) *\\\n",
    "               (np.cos(p4*np.pi/2) ** 2) * (np.cos(p5*np.pi/2) ** 2) * (np.cos(p6*np.pi/2) ** 2) *\\\n",
    "               (np.cos(p7*np.pi/2) ** 2) * (np.cos(p8*np.pi/2) ** 2) * (np.cos(p9*np.pi/2) ** 2) *\\\n",
    "               (np.cos(p10*np.pi/2) ** 2)\n",
    "    \n",
    "    return (np.pi**10) * np.exp ( -(sum_tg +(1/( (2**7)*prog_tg))))/(prog_cos * prog_tg)"
   ]
  },
  {
   "cell_type": "markdown",
   "id": "3ae85cae",
   "metadata": {},
   "source": [
    "### Блок вывода/визуализации"
   ]
  },
  {
   "cell_type": "markdown",
   "id": "519c3aff",
   "metadata": {},
   "source": [
    "### Задание №6.1-6.2\n"
   ]
  },
  {
   "cell_type": "code",
   "execution_count": null,
   "id": "0dd6fd78",
   "metadata": {},
   "outputs": [],
   "source": [
    "#Метод Монте-Карло\n",
    "n_m_c = 100000 #количество итераций в методе Монте-Карло\n",
    "S_n = 0\n",
    "alpha = 0.99\n",
    "sigma = 0\n",
    "start_time = time()\n",
    "for i in range(n_m_c):\n",
    "    ksi = np.random.normal(0, np.sqrt(1/2), size = 10)\n",
    "    F = F_m_c(ksi)\n",
    "    S_n += F\n",
    "    sigma += F**2\n",
    "end_time = time() - start_time    \n",
    "integral = S_n/n_m_c    \n",
    "print('integral = ', integral)\n",
    "x_p = norm.ppf((1 + alpha)/2, 0, 1)\n",
    "eps = x_p * np.sqrt(sigma/n_m_c - integral**2)/np.sqrt(n_m_c)\n",
    "print('error = ', eps)\n",
    "print('time = ', end_time,';', 'number of iterations = ', n_m_c)"
   ]
  },
  {
   "cell_type": "code",
   "execution_count": null,
   "id": "4380dc1f",
   "metadata": {},
   "outputs": [],
   "source": [
    "'''\n",
    "#Метод Квадратур\n",
    "n_s_m = 10 #количество итераций в методе квадратур \n",
    "n_k = 5\n",
    "x = np.zeros(n_s_m)\n",
    "Sum = 0\n",
    "delta = (n_k - 1)**(-n_s_m)\n",
    "x_ls = np.linspace(0,1,n_k) + 1/(2*(n_k - 1))\n",
    "start_time = time()\n",
    "for i in range(n_k):\n",
    "    x[0] = x_ls[i]\n",
    "    for i in range(n_k):\n",
    "        x[1] = x_ls[i]\n",
    "        for i in range(n_k):\n",
    "            x[2] = x_ls[i]\n",
    "            for i in range(n_k):\n",
    "                x[3] = x_ls[i]\n",
    "                for i in range(n_k):\n",
    "                    x[4] = x_ls[i]\n",
    "                    for i in range(n_k):\n",
    "                        x[5] = x_ls[i]\n",
    "                        for i in range(n_k):\n",
    "                            x[6] = x_ls[i]\n",
    "                            for i in range(n_k):\n",
    "                                x[7] = x_ls[i]\n",
    "                                for i in range(n_k):\n",
    "                                    x[8] = x_ls[i]\n",
    "                                    for i in range(n_k):\n",
    "                                        x[9] = x_ls[i]\n",
    "                                        Sum += F_s_m(x)\n",
    "end_time = time() - start_time\n",
    "integral = Sum*delta\n",
    "print('integral = ', integral)\n",
    "print('time = ', end_time, ';', 'number of iterations = ', n_k)\n",
    "'''"
   ]
  },
  {
   "cell_type": "code",
   "execution_count": null,
   "id": "2ed6d9ad",
   "metadata": {},
   "outputs": [],
   "source": [
    "m = 6\n",
    "x1 = np.linspace(-0.93,0.95, m)\n",
    "x2 = np.linspace(-0.93,0.95, m)\n",
    "x3 = np.linspace(-0.93,0.95, m)\n",
    "x4 = np.linspace(-0.93,0.95, m)\n",
    "x5 = np.linspace(-0.93,0.95, m)\n",
    "x6 = np.linspace(-0.93,0.95, m)\n",
    "x7 = np.linspace(-0.93,0.95, m)\n",
    "x8 = np.linspace(-0.93,0.95, m)\n",
    "x9 = np.linspace(-0.93,0.95, m)\n",
    "x10 = np.linspace(-0.93,0.95, m)"
   ]
  },
  {
   "cell_type": "code",
   "execution_count": null,
   "id": "b29ab992",
   "metadata": {},
   "outputs": [],
   "source": [
    "p1, p2, p3, p4, p5, p6, p7, p8, p9, p10 = np.meshgrid(x1,x2,x3,x4,x5,x6,x7,x8,x9,x10)"
   ]
  },
  {
   "cell_type": "code",
   "execution_count": null,
   "id": "8b09065b",
   "metadata": {},
   "outputs": [],
   "source": [
    "#без циклов\n",
    "int_sum = np.sum(Mega_F(p1,p2,p3,p4,p5,p6,p7,p8,p9,p10))/ (m ** 10)"
   ]
  },
  {
   "cell_type": "code",
   "execution_count": null,
   "id": "376e86fa",
   "metadata": {},
   "outputs": [],
   "source": [
    "print('Integral = ', int_sum)"
   ]
  }
 ],
 "metadata": {
  "kernelspec": {
   "display_name": "Python 3 (ipykernel)",
   "language": "python",
   "name": "python3"
  },
  "language_info": {
   "codemirror_mode": {
    "name": "ipython",
    "version": 3
   },
   "file_extension": ".py",
   "mimetype": "text/x-python",
   "name": "python",
   "nbconvert_exporter": "python",
   "pygments_lexer": "ipython3",
   "version": "3.8.8"
  }
 },
 "nbformat": 4,
 "nbformat_minor": 5
}
